{
  "nbformat": 4,
  "nbformat_minor": 0,
  "metadata": {
    "colab": {
      "provenance": [],
      "include_colab_link": true
    },
    "kernelspec": {
      "name": "python3",
      "display_name": "Python 3"
    },
    "language_info": {
      "name": "python"
    }
  },
  "cells": [
    {
      "cell_type": "markdown",
      "metadata": {
        "id": "view-in-github",
        "colab_type": "text"
      },
      "source": [
        "<a href=\"https://colab.research.google.com/github/Metsashka/-3-/blob/master/%22%D0%9F%D1%80%D0%B0%D0%BA%D1%82%D0%B8%D1%87%D0%B5%D1%81%D0%BA%D0%BE%D0%B5_%D0%B7%D0%B0%D0%B4%D0%B0%D0%BD%D0%B8%D0%B5_%E2%84%961_ipynb%22.ipynb\" target=\"_parent\"><img src=\"https://colab.research.google.com/assets/colab-badge.svg\" alt=\"Open In Colab\"/></a>"
      ]
    },
    {
      "cell_type": "markdown",
      "source": [
        "# Практическое задание №1 \"Библиотека NumPy\"\n",
        "\n",
        "1. Создайте массив arr_1 размером 3х4, все элементы которого равны 3.\n",
        "2. Создайте массив arr_2, заполненный случайными целыми числами от 0 до\n",
        "9, размером 2х4.\n",
        "3. Выведите на экран количество элементов в созданных массивах arr_1 и\n",
        "arr_2.\n",
        "4. Соедините массивы arr_1 и arr_2 по нулевой оси.\n",
        "5. Создайте массив arr_3 из кортежа чисел (1, 8, 6, 5, 8, 3) с помощью функции\n",
        "np.array().\n",
        "6. Умножьте каждый элемент массива arr_3 на число 3 и прибавьте к каждому\n",
        "элементу 1. Результат запишите в новый массив arr_4.\n",
        "7. Преобразуйте масиив arr_3 к двумерному массиву 2х3. Результат запишите\n",
        "в массив arr_5.\n",
        "8. Определите минимальные элементы массива arr_5 вдоль первой оси.\n",
        "9. Вычислите среднее арифметическое всех элементов массива arr_5.\n",
        "10. Создайте массив arr_6, состоящий из квадратов чисел от 0 до 10.\n",
        "11. Выведите каждый второй элемент массива arr_6.\n",
        "12. Выведите элементы массива arr_6 в обратном порядке.\n",
        "13. Каждому второму элементу массива arr_6 присвойте значение 2.\n",
        "14. Проверьте, есть ли в массиве arr_6 значение 49.\n",
        "15. Создайте двумерный массив А, состоящий из положительных и\n",
        "отрицательных чисел. Из массива A выберите все отрицательные элементы и\n",
        "запишите их в одномерный массив B.\n"
      ],
      "metadata": {
        "id": "6XDp6dwnBY_8"
      }
    },
    {
      "cell_type": "code",
      "source": [
        "import numpy as np"
      ],
      "metadata": {
        "id": "Lt1fgTlXHmZD"
      },
      "execution_count": 2,
      "outputs": []
    },
    {
      "cell_type": "code",
      "source": [
        "# Создание массива arr_1\n",
        "\n",
        "arr_1 = np.random.randint(3,4, size=(3, 4))\n",
        "arr_1"
      ],
      "metadata": {
        "colab": {
          "base_uri": "https://localhost:8080/"
        },
        "id": "arhrNcBBIA0M",
        "outputId": "501d2d0a-3302-4e71-94e9-7c293ab6ec63"
      },
      "execution_count": 20,
      "outputs": [
        {
          "output_type": "execute_result",
          "data": {
            "text/plain": [
              "array([[3, 3, 3, 3],\n",
              "       [3, 3, 3, 3],\n",
              "       [3, 3, 3, 3]])"
            ]
          },
          "metadata": {},
          "execution_count": 20
        }
      ]
    },
    {
      "cell_type": "code",
      "source": [
        "# Создание массива arr_2\n",
        "\n",
        "arr_2 = np.random.randint(0,10, size=(2, 4))\n",
        "arr_2"
      ],
      "metadata": {
        "colab": {
          "base_uri": "https://localhost:8080/"
        },
        "id": "dmTR2y_fM2Io",
        "outputId": "c2c50e31-3fc1-48d4-cd6f-f239f9ff1f89"
      },
      "execution_count": 21,
      "outputs": [
        {
          "output_type": "execute_result",
          "data": {
            "text/plain": [
              "array([[4, 2, 2, 3],\n",
              "       [4, 4, 5, 6]])"
            ]
          },
          "metadata": {},
          "execution_count": 21
        }
      ]
    },
    {
      "cell_type": "code",
      "source": [
        "# Вывод кол-ва элементов arr_1, arr_2\n",
        "\n",
        "print(\"arr_1 size: \", arr_1.size)\n",
        "print(\"arr_2 size: \", arr_2.size)"
      ],
      "metadata": {
        "colab": {
          "base_uri": "https://localhost:8080/"
        },
        "id": "_3mT3ZN6NWwh",
        "outputId": "387d2bdc-5bac-4a67-ac4a-6284e076f89b"
      },
      "execution_count": 22,
      "outputs": [
        {
          "output_type": "stream",
          "name": "stdout",
          "text": [
            "arr_1 size:  12\n",
            "arr_2 size:  8\n"
          ]
        }
      ]
    },
    {
      "cell_type": "code",
      "source": [
        "# Соединение массивов по нулевой оси\n",
        "np.concatenate([arr_1, arr_2], axis=0)"
      ],
      "metadata": {
        "colab": {
          "base_uri": "https://localhost:8080/"
        },
        "id": "9B31vUnaNn22",
        "outputId": "5a8a09bf-0215-4464-f6f4-c257f6280bfa"
      },
      "execution_count": 24,
      "outputs": [
        {
          "output_type": "execute_result",
          "data": {
            "text/plain": [
              "array([[3, 3, 3, 3],\n",
              "       [3, 3, 3, 3],\n",
              "       [3, 3, 3, 3],\n",
              "       [4, 2, 2, 3],\n",
              "       [4, 4, 5, 6]])"
            ]
          },
          "metadata": {},
          "execution_count": 24
        }
      ]
    },
    {
      "cell_type": "code",
      "source": [
        "# Создание массива arr_3\n",
        "\n",
        "arr_3 = np.array([1,8,6,5,8,3])\n",
        "arr_3"
      ],
      "metadata": {
        "colab": {
          "base_uri": "https://localhost:8080/"
        },
        "id": "AivuRhonOOhp",
        "outputId": "8d7009de-11ec-4a67-8757-e73837331138"
      },
      "execution_count": 26,
      "outputs": [
        {
          "output_type": "execute_result",
          "data": {
            "text/plain": [
              "array([1, 8, 6, 5, 8, 3])"
            ]
          },
          "metadata": {},
          "execution_count": 26
        }
      ]
    },
    {
      "cell_type": "code",
      "source": [
        "# Создание массива arr_4\n",
        "\n",
        "arr_4 = (arr_3 * 3) + 1\n",
        "\n",
        "arr_4"
      ],
      "metadata": {
        "colab": {
          "base_uri": "https://localhost:8080/"
        },
        "id": "WM8ET3RnOzpX",
        "outputId": "018f6875-fec2-4e9a-daad-0ca62072e9e1"
      },
      "execution_count": 28,
      "outputs": [
        {
          "output_type": "execute_result",
          "data": {
            "text/plain": [
              "array([ 4, 25, 19, 16, 25, 10])"
            ]
          },
          "metadata": {},
          "execution_count": 28
        }
      ]
    },
    {
      "cell_type": "code",
      "source": [
        "# Создание массива arr_5\n",
        "\n",
        "arr_5 = np.vstack([arr_3[:3],arr_3[3:]])\n",
        "\n",
        "arr_5"
      ],
      "metadata": {
        "colab": {
          "base_uri": "https://localhost:8080/"
        },
        "id": "dm2lNtO2PL0b",
        "outputId": "c0d3b49d-32ed-4a81-8bda-f9d15735c2ca"
      },
      "execution_count": 43,
      "outputs": [
        {
          "output_type": "execute_result",
          "data": {
            "text/plain": [
              "array([[1, 8, 6],\n",
              "       [5, 8, 3]])"
            ]
          },
          "metadata": {},
          "execution_count": 43
        }
      ]
    },
    {
      "cell_type": "code",
      "source": [
        "# Минимум первой оси arr_5\n",
        "\n",
        "arr_5[1:].min()"
      ],
      "metadata": {
        "colab": {
          "base_uri": "https://localhost:8080/"
        },
        "id": "uesZ-L4_b6uV",
        "outputId": "779151ee-2363-4a9c-fc0b-65d8e04b19dc"
      },
      "execution_count": 45,
      "outputs": [
        {
          "output_type": "execute_result",
          "data": {
            "text/plain": [
              "3"
            ]
          },
          "metadata": {},
          "execution_count": 45
        }
      ]
    },
    {
      "cell_type": "code",
      "source": [
        "# Среднее арифмет arr_5\n",
        "\n",
        "x = np.sum(arr_5)\n",
        "x=x/arr_5.size\n",
        "x\n"
      ],
      "metadata": {
        "colab": {
          "base_uri": "https://localhost:8080/"
        },
        "id": "xQTCp1D9cbEf",
        "outputId": "d0381b2d-d164-49f4-85b4-7eae817fcb0d"
      },
      "execution_count": 48,
      "outputs": [
        {
          "output_type": "execute_result",
          "data": {
            "text/plain": [
              "5.166666666666667"
            ]
          },
          "metadata": {},
          "execution_count": 48
        }
      ]
    },
    {
      "cell_type": "code",
      "source": [
        "# Создание массива arr_6\n",
        "\n",
        "arr_6 = np.arange(0,10)\n",
        "arr_6 = arr_6*arr_6\n",
        "arr_6"
      ],
      "metadata": {
        "colab": {
          "base_uri": "https://localhost:8080/"
        },
        "id": "w2O7w37keWEZ",
        "outputId": "d5dbbe59-3970-4062-c614-4d98f556e2fa"
      },
      "execution_count": 83,
      "outputs": [
        {
          "output_type": "execute_result",
          "data": {
            "text/plain": [
              "array([ 0,  1,  4,  9, 16, 25, 36, 49, 64, 81])"
            ]
          },
          "metadata": {},
          "execution_count": 83
        }
      ]
    },
    {
      "cell_type": "code",
      "source": [
        "# Каждый 2 элемент arr_6\n",
        "\n",
        "arr_6[::2]"
      ],
      "metadata": {
        "colab": {
          "base_uri": "https://localhost:8080/"
        },
        "id": "wt0eraA1fv4N",
        "outputId": "a141cdd4-f1c1-436b-dcea-433dc5afb0fc"
      },
      "execution_count": 84,
      "outputs": [
        {
          "output_type": "execute_result",
          "data": {
            "text/plain": [
              "array([ 0,  4, 16, 36, 64])"
            ]
          },
          "metadata": {},
          "execution_count": 84
        }
      ]
    },
    {
      "cell_type": "code",
      "source": [
        "# Вывод arr_6 в обратно порядке\n",
        "\n",
        "arr_6[::-1]"
      ],
      "metadata": {
        "colab": {
          "base_uri": "https://localhost:8080/"
        },
        "id": "WTSHXNNagGPH",
        "outputId": "6ad0c3c0-431c-4bdf-96e9-13ea54ba3e60"
      },
      "execution_count": 69,
      "outputs": [
        {
          "output_type": "execute_result",
          "data": {
            "text/plain": [
              "array([81, 64, 49, 36, 25, 16,  9,  4,  1,  0])"
            ]
          },
          "metadata": {},
          "execution_count": 69
        }
      ]
    },
    {
      "cell_type": "code",
      "source": [
        "# Присвоение каждому 2 элементу arr_6\n",
        "\n",
        "arr_6[::2] = 2\n",
        "arr_6"
      ],
      "metadata": {
        "colab": {
          "base_uri": "https://localhost:8080/"
        },
        "id": "JUlOAwfDga57",
        "outputId": "859041df-1eca-4c76-da91-1f314bb7a803"
      },
      "execution_count": 70,
      "outputs": [
        {
          "output_type": "execute_result",
          "data": {
            "text/plain": [
              "array([ 2,  1,  2,  9,  2, 25,  2, 49,  2, 81])"
            ]
          },
          "metadata": {},
          "execution_count": 70
        }
      ]
    },
    {
      "cell_type": "code",
      "source": [
        "# Проверка есть ли в массиве arr_6 число 49\n",
        "\n",
        "np.any(arr_6 == 49)"
      ],
      "metadata": {
        "colab": {
          "base_uri": "https://localhost:8080/"
        },
        "id": "hArPteJKgnNU",
        "outputId": "5afdf456-ae96-4a0c-874c-d8bd47efb31a"
      },
      "execution_count": 90,
      "outputs": [
        {
          "output_type": "execute_result",
          "data": {
            "text/plain": [
              "True"
            ]
          },
          "metadata": {},
          "execution_count": 90
        }
      ]
    },
    {
      "cell_type": "code",
      "source": [
        "# Создание массива А\n",
        "\n",
        "A = np.random.randint(-10,10, size=(3, 4))\n",
        "print(A)\n",
        "print(\"====================\")\n",
        "\n",
        "B = A[A<0]\n",
        "print(B)"
      ],
      "metadata": {
        "colab": {
          "base_uri": "https://localhost:8080/"
        },
        "id": "KjQar7HLiqKS",
        "outputId": "145f635f-6d55-4e60-e929-c1848a9f259e"
      },
      "execution_count": 111,
      "outputs": [
        {
          "output_type": "stream",
          "name": "stdout",
          "text": [
            "[[ 4  5 -6  7]\n",
            " [-3  6  2 -6]\n",
            " [ 1 -7 -5 -3]]\n",
            "====================\n",
            "[-6 -3 -6 -7 -5 -3]\n"
          ]
        }
      ]
    }
  ]
}